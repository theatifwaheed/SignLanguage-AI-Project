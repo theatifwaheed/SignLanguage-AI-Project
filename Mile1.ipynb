{
 "cells": [
  {
   "cell_type": "code",
   "execution_count": null,
   "id": "4e2e8c2c",
   "metadata": {},
   "outputs": [],
   "source": [
    "import cv2 as cv\n",
    "from matplotlib import pyplot as plt\n",
    "\n",
    "cap = cv.VideoCapture('1depth.avi')\n",
    "#fg = cv.bgsegm.createBackgroundSubtractorMOG()\n",
    "\n",
    "while cap.isOpened():\n",
    "    ret, frame = cap.read()\n",
    "    #cv.imshow('original Frame', frame)\n",
    "    if ret == True:\n",
    "\n",
    "        gray = cv.cvtColor(frame, cv.COLOR_BGR2GRAY)\n",
    "        #fgmask = fg.apply(frame)\n",
    "        _, th1 = cv.threshold(gray, 175, 255, cv.THRESH_BINARY + cv.THRESH_OTSU)\n",
    "        \n",
    "        \n",
    "        \n",
    "        cv.imshow('Threshold', th1)\n",
    "        \n",
    "        #cv.imshow('FG Frame', fgmask)\n",
    "\n",
    "        if cv.waitKey(20) & 0xFF == ord('q'):\n",
    "            break\n",
    "\n",
    "cap.release()\n",
    "\n",
    "cv.destroyAllWindows()"
   ]
  },
  {
   "cell_type": "code",
   "execution_count": 5,
   "id": "85e150d4",
   "metadata": {},
   "outputs": [
    {
     "ename": "ValueError",
     "evalue": "not enough values to unpack (expected 3, got 2)",
     "output_type": "error",
     "traceback": [
      "\u001b[1;31m---------------------------------------------------------------------------\u001b[0m",
      "\u001b[1;31mValueError\u001b[0m                                Traceback (most recent call last)",
      "\u001b[1;32m<ipython-input-5-9fe773001f4f>\u001b[0m in \u001b[0;36m<module>\u001b[1;34m\u001b[0m\n\u001b[0;32m     20\u001b[0m \u001b[1;33m\u001b[0m\u001b[0m\n\u001b[0;32m     21\u001b[0m \u001b[1;31m# find contours\u001b[0m\u001b[1;33m\u001b[0m\u001b[1;33m\u001b[0m\u001b[1;33m\u001b[0m\u001b[0m\n\u001b[1;32m---> 22\u001b[1;33m \u001b[0mim2\u001b[0m\u001b[1;33m,\u001b[0m \u001b[0mcontours\u001b[0m\u001b[1;33m,\u001b[0m \u001b[0mhierarchy\u001b[0m \u001b[1;33m=\u001b[0m \u001b[0mcv2\u001b[0m\u001b[1;33m.\u001b[0m\u001b[0mfindContours\u001b[0m\u001b[1;33m(\u001b[0m\u001b[0mthresh\u001b[0m\u001b[1;33m,\u001b[0m \u001b[0mcv2\u001b[0m\u001b[1;33m.\u001b[0m\u001b[0mRETR_TREE\u001b[0m\u001b[1;33m,\u001b[0m \u001b[0mcv2\u001b[0m\u001b[1;33m.\u001b[0m\u001b[0mCHAIN_APPROX_SIMPLE\u001b[0m\u001b[1;33m)\u001b[0m\u001b[1;33m\u001b[0m\u001b[1;33m\u001b[0m\u001b[0m\n\u001b[0m\u001b[0;32m     23\u001b[0m \u001b[1;33m\u001b[0m\u001b[0m\n\u001b[0;32m     24\u001b[0m \u001b[1;31m# create hull array for convexHull points\u001b[0m\u001b[1;33m\u001b[0m\u001b[1;33m\u001b[0m\u001b[1;33m\u001b[0m\u001b[0m\n",
      "\u001b[1;31mValueError\u001b[0m: not enough values to unpack (expected 3, got 2)"
     ]
    }
   ],
   "source": [
    "import cv2\n",
    "import numpy as np\n",
    "import sys\n",
    "\n",
    "\n",
    "# read image\n",
    "src = cv2.imread('sample.jpg')\n",
    "\n",
    "# show source image\n",
    "#cv2.imshow(\"Source\", src)\n",
    "\n",
    "# convert image to gray scale\n",
    "gray = cv2.cvtColor(src, cv2.COLOR_BGR2GRAY)\n",
    "\n",
    "# blur the image\n",
    "blur = cv2.blur(gray, (3, 3))\n",
    "\n",
    "# binary thresholding of the image\n",
    "ret, thresh = cv2.threshold(blur, 200, 255, cv2.THRESH_BINARY)\n",
    "\n",
    "# find contours\n",
    "im2, contours, hierarchy = cv2.findContours(thresh, cv2.RETR_TREE, cv2.CHAIN_APPROX_SIMPLE)\n",
    "\n",
    "# create hull array for convexHull points\n",
    "hull = []\n",
    "\n",
    "# calculate points for each contour\n",
    "for i in range(len(contours)):\n",
    "    hull.append(cv2.convexHull(contours[i], False))\n",
    "\n",
    "# create an empty black image\n",
    "drawing = np.zeros((thresh.shape[0], thresh.shape[1], 3), np.uint8)\n",
    "\n",
    "# draw contours and hull points\n",
    "for i in range(len(contours)):\n",
    "    color_contours = (0, 255, 0) # color for contours\n",
    "    color = (255, 255, 255) # color for convex hull\n",
    "    # draw contours\n",
    "    cv2.drawContours(drawing, contours, i, color_contours, 2, 8, hierarchy)\n",
    "    # draw convex hull\n",
    "    cv2.drawContours(drawing, hull, i, color, 2, 8)\n",
    "\n",
    "plt.imshow(drawing)\n",
    "\n",
    "cv2.waitKey(0)\n",
    "cv2.destroyAllWindows()"
   ]
  },
  {
   "cell_type": "code",
   "execution_count": null,
   "id": "a729b958",
   "metadata": {},
   "outputs": [],
   "source": []
  }
 ],
 "metadata": {
  "kernelspec": {
   "display_name": "Python 3",
   "language": "python",
   "name": "python3"
  },
  "language_info": {
   "codemirror_mode": {
    "name": "ipython",
    "version": 3
   },
   "file_extension": ".py",
   "mimetype": "text/x-python",
   "name": "python",
   "nbconvert_exporter": "python",
   "pygments_lexer": "ipython3",
   "version": "3.8.8"
  }
 },
 "nbformat": 4,
 "nbformat_minor": 5
}
